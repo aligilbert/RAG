{
  "nbformat": 4,
  "nbformat_minor": 0,
  "metadata": {
    "colab": {
      "provenance": [],
      "name": "To Tableau JSON.ipynb",
      "authorship_tag": "ABX9TyNreE3/e0EWELPUBgOTBO8W"
    },
    "kernelspec": {
      "name": "python3",
      "display_name": "Python 3"
    },
    "language_info": {
      "name": "python"
    }
  },
  "cells": [
    {
      "cell_type": "code",
      "source": [
        "# prompt: try the above code again, with some adjustments:Read the CSV File:\n",
        "# Reads the matrix into a DataFrame without column headers.\n",
        "# Convert to Geographical Coordinates:\n",
        "# The convert_to_geo_coords function translates matrix indices to geographic coordinates. the geographic data is in km, cell_size = 3x3 km\n",
        "# Create Geometries\n",
        "# Iterate over the matrix cells. If\n",
        "\n",
        "import pandas as pd\n",
        "import geopandas as gpd\n",
        "from shapely.geometry import Point, LineString, box\n",
        "\n",
        "# Load the CSV file without headers\n",
        "csv_file = '/content/mask.csv'\n",
        "df = pd.read_csv(csv_file, header=None)\n",
        "\n",
        "# Convert matrix indices to geographic coordinates\n",
        "\n",
        "# Define the size of each cell in kilometers\n",
        "cell_size_km = 3\n",
        "# Convert cell size to degrees (approximation, 1 degree ~ 111 km)\n",
        "cell_size_deg = cell_size_km / 111\n",
        "\n",
        "# Define origin coordinates for the top-left corner of the matrix\n",
        "origin_lat = 0  # Adjust based on your geographic reference\n",
        "origin_lon = 0  # Adjust based on your geographic reference\n",
        "\n",
        "# Create a list to store geometries and data\n",
        "geometries = []\n",
        "\n",
        "# Iterate over the matrix and convert cells with value 1 to polygons\n",
        "for row in range(df.shape[0]):\n",
        "    for col in range(df.shape[1]):\n",
        "        if df.iloc[row, col] == 1:\n",
        "            # Calculate the coordinates of the cell\n",
        "            min_lon = origin_lon + col * cell_size_deg\n",
        "            max_lon = min_lon + cell_size_deg\n",
        "            min_lat = origin_lat - row * cell_size_deg\n",
        "            max_lat = min_lat + cell_size_deg\n",
        "\n",
        "            # Create a polygon for the cell\n",
        "            cell_polygon = box(min_lon, min_lat, max_lon, max_lat)\n",
        "            geometries.append(cell_polygon)\n",
        "\n",
        "# Create a GeoDataFrame from the list of geometries\n",
        "gdf = gpd.GeoDataFrame(geometry=geometries, crs=\"EPSG:4326\")\n",
        "\n",
        "# Save as a GeoJSON file\n",
        "geojson_file = 'matrix_data.geojson'\n",
        "gdf.to_file(geojson_file, driver='GeoJSON')\n",
        "\n",
        "print(f\"GeoJSON file saved as {geojson_file}\")\n"
      ],
      "metadata": {
        "colab": {
          "base_uri": "https://localhost:8080/"
        },
        "id": "89Nggy1PrB83",
        "outputId": "53f75918-88aa-422a-ea45-da00d4835f5a"
      },
      "execution_count": null,
      "outputs": [
        {
          "output_type": "stream",
          "name": "stdout",
          "text": [
            "GeoJSON file saved as matrix_data.geojson\n"
          ]
        }
      ]
    }
  ]
}